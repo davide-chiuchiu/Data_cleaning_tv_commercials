{
 "cells": [
  {
   "cell_type": "markdown",
   "metadata": {},
   "source": [
    "The scope of this notebook is to practice in cleaning a messy dataset, specifically the dataset about information on TV commercials from 5 indian TV channels.\n",
    "\n",
    "Let's start by loading the tidyverse and the data.table packages. "
   ]
  },
  {
   "cell_type": "code",
   "execution_count": 1,
   "metadata": {},
   "outputs": [
    {
     "ename": "ERROR",
     "evalue": "Error in library(tidyverse): there is no package called ‘tidyverse’\n",
     "output_type": "error",
     "traceback": [
      "Error in library(tidyverse): there is no package called ‘tidyverse’\nTraceback:\n",
      "1. library(tidyverse)",
      "2. stop(txt, domain = NA)"
     ]
    }
   ],
   "source": [
    "library(data.table)"
   ]
  },
  {
   "cell_type": "code",
   "execution_count": null,
   "metadata": {},
   "outputs": [],
   "source": []
  }
 ],
 "metadata": {
  "kernelspec": {
   "display_name": "R",
   "language": "R",
   "name": "ir"
  },
  "language_info": {
   "codemirror_mode": "r",
   "file_extension": ".r",
   "mimetype": "text/x-r-source",
   "name": "R",
   "pygments_lexer": "r",
   "version": "3.4.2"
  }
 },
 "nbformat": 4,
 "nbformat_minor": 2
}
